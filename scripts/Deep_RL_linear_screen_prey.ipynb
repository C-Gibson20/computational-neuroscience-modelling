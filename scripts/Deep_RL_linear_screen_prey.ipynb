{
 "cells": [
  {
   "cell_type": "markdown",
   "metadata": {},
   "source": [
    "# Result Notebook"
   ]
  },
  {
   "cell_type": "markdown",
   "metadata": {},
   "source": [
    "## Imports"
   ]
  },
  {
   "cell_type": "code",
   "execution_count": null,
   "metadata": {},
   "outputs": [],
   "source": [
    "pip install h5py"
   ]
  },
  {
   "cell_type": "code",
   "execution_count": null,
   "metadata": {},
   "outputs": [],
   "source": [
    "import numpy as np\n",
    "import gc\n",
    "import multimodal_mazes\n",
    "import matplotlib.pyplot as plt\n",
    "import h5py"
   ]
  },
  {
   "cell_type": "markdown",
   "metadata": {},
   "source": [
    "## Static Training Test"
   ]
  },
  {
   "cell_type": "code",
   "execution_count": null,
   "metadata": {},
   "outputs": [],
   "source": [
    "evaluator = multimodal_mazes.LinearPreyEvaluatorContinuous(width=51, height=59, n_steps=30, scenario='Static', case=None, motion=None, speed=0)\n",
    "evaluator.run_trials(400, True)"
   ]
  },
  {
   "cell_type": "code",
   "execution_count": null,
   "metadata": {},
   "outputs": [],
   "source": [
    "evaluator.training_plots(paths=True)"
   ]
  },
  {
   "cell_type": "code",
   "execution_count": null,
   "metadata": {},
   "outputs": [],
   "source": [
    "evaluator.training_plots(reward=True)"
   ]
  },
  {
   "cell_type": "code",
   "execution_count": null,
   "metadata": {},
   "outputs": [],
   "source": [
    "evaluator.training_plots(animate=True)"
   ]
  },
  {
   "cell_type": "markdown",
   "metadata": {},
   "source": [
    "## Constant Movement Training Test"
   ]
  },
  {
   "cell_type": "markdown",
   "metadata": {},
   "source": [
    "### Training and Testing"
   ]
  },
  {
   "cell_type": "code",
   "execution_count": null,
   "metadata": {},
   "outputs": [],
   "source": [
    "cases = [\"1\", \"2\", \"3\"]\n",
    "speeds = np.arange(0, 2.0, 0.24)\n",
    "n_agents = 1\n",
    "case_colors = [(\"#346ea8\"), (\"#ff760d\"), (\"#fa020f\")]\n",
    "capture_results = np.zeros((n_agents, len(cases), len(speeds)))\n",
    "approach_results = np.zeros((n_agents, len(cases), len(speeds)))           \n",
    "trials = {agent: {case: {speed: {} for speed in range(len(speeds))} for case in range(len(cases))} for agent in range(n_agents)}"
   ]
  },
  {
   "cell_type": "code",
   "execution_count": null,
   "metadata": {},
   "outputs": [],
   "source": [
    "# evaluator = multimodal_mazes.LinearPreyEvaluatorContinuous(width=51, height=59, n_steps=50, scenario='Constant', case=None, motion='Linear', speed=None)\n",
    "# evaluator.run_trials(800, True)\n",
    "# evaluator.training_plots(animate=True)"
   ]
  },
  {
   "cell_type": "code",
   "execution_count": null,
   "metadata": {},
   "outputs": [],
   "source": [
    "for n in range(n_agents):\n",
    "    evaluator = multimodal_mazes.LinearPreyEvaluatorContinuous(width=51, height=59, n_steps=50, scenario='Constant', case=None, motion='Linear', speed=None)\n",
    "    evaluator.run_trials(800, True)\n",
    "    for case in range(len(cases)):\n",
    "        for a, speed in enumerate(speeds):\n",
    "            test_trial_data, captured = evaluator.evaluate(n_trials=1000, case=cases[case], speed=speed)\n",
    "            trials[n][case][a] = test_trial_data\n",
    "            capture_results[n, case, a] = captured "
   ]
  },
  {
   "cell_type": "markdown",
   "metadata": {},
   "source": [
    "### Result Processing"
   ]
  },
  {
   "cell_type": "code",
   "execution_count": null,
   "metadata": {},
   "outputs": [],
   "source": [
    "capture_processed = np.zeros((2, len(cases), len(speeds)))\n",
    "capture_results_mod = capture_results.copy()\n",
    "capture_results_mod = np.delete(capture_results.copy(), [], 0)\n",
    "\n",
    "for case in range(len(cases)):\n",
    "    for speed in range(len(speeds)):\n",
    "        capture_processed[0, case, speed] = np.mean(capture_results_mod[:, case, speed])\n",
    "        capture_processed[1, case, speed] = np.std(capture_results_mod[:, case, speed])\n",
    "\n",
    "print('Capture Results:')\n",
    "print(capture_results)\n",
    "print('Processed Capture Results:')\n",
    "print(capture_processed)"
   ]
  },
  {
   "cell_type": "code",
   "execution_count": null,
   "metadata": {},
   "outputs": [],
   "source": [
    "fig, axs = plt.subplots(1, 4, figsize=(20, 5), sharex=True, sharey=True)\n",
    "fig.tight_layout(rect=[0,0.1, 1, 0.9])\n",
    "fig.suptitle(f\"Deep RL Capture Success vs Speed\")\n",
    "    \n",
    "for case in range(len(cases)):\n",
    "    axs[case].set_title(f\"Case {case + 1}\")\n",
    "    for n in range(n_agents):\n",
    "        if n not in []:\n",
    "            axs[case].plot(speeds, capture_results[n, case, :], color = case_colors[case], alpha = 0.2)\n",
    "    \n",
    "    axs[case].plot(speeds, capture_processed[0, case, :], color=case_colors[case])\n",
    "    axs[case].errorbar(speeds, capture_processed[0, case, :], yerr=capture_processed[1, case, :], color=case_colors[case])\n",
    "    axs[3].plot(speeds, capture_processed[0, case, :], color=case_colors[case])\n",
    "    axs[3].errorbar(speeds, capture_processed[0, case, :], yerr=capture_processed[1, case, :], color=case_colors[case])\n",
    "    \n",
    "axs[0].set(xlabel='Speed', ylabel='Capture Success')\n",
    "axs[0].set_xticks(np.arange(0, 2.0, 0.48), ['0', '0.5', '1.0', '1.5', '2.0']);"
   ]
  },
  {
   "cell_type": "markdown",
   "metadata": {},
   "source": [
    "### Trajectory Plotting"
   ]
  },
  {
   "cell_type": "code",
   "execution_count": null,
   "metadata": {},
   "outputs": [],
   "source": [
    "speeds = np.arange(0, 2.0, 0.24)"
   ]
  },
  {
   "cell_type": "code",
   "execution_count": null,
   "metadata": {},
   "outputs": [],
   "source": [
    "colors = {0: [plt.get_cmap('Blues')(i) for i in np.arange(0, 2.0, 0.24)], \n",
    "          1: [plt.get_cmap('Oranges')(i) for i in np.arange(0, 2.0, 0.24)], \n",
    "          2: [plt.get_cmap('Reds')(i) for i in np.arange(0, 2.0, 0.24)]}\n",
    "\n",
    "case_coords = {case: {'y': {pm: [] for pm in range(len(speeds))}, 'x': {pm: [] for pm in range(len(speeds))}} for case in range(len(cases))}\n",
    "case_mean_coords = {case: {'mean_x': {pm: [] for pm in range(len(speeds))}, 'unique_y': {pm: [] for pm in range(len(speeds))}} for case in range(len(cases))}\n",
    "    \n",
    "for n in range(n_agents):\n",
    "    for case in range(len(cases)):       \n",
    "        for a in range(len(speeds)):\n",
    "            x_coords, y_coords = [], []\n",
    "            \n",
    "            for trial in trials[n][case][a]:\n",
    "                path = trials[n][case][a][trial]['path']\n",
    "                for location in path:\n",
    "                    y = 59 - location[0]\n",
    "                    x = 51 - location[1] if path[0][1] < path[-1][1] else location[1]\n",
    "                    y_coords.append(int(y))\n",
    "                    x_coords.append(int(x))\n",
    "                    \n",
    "            case_coords[case]['y'][a] = y_coords\n",
    "            case_coords[case]['x'][a] = x_coords\n",
    "\n",
    "            x_values = np.array(x_coords)\n",
    "            y_values = np.array(y_coords)\n",
    "            unique_ys = np.unique(y_values)\n",
    "\n",
    "            mean_xs = np.array([x_values[y_values == y].mean() for y in unique_ys])\n",
    "            case_mean_coords[case]['mean_x'][a] = mean_xs\n",
    "            case_mean_coords[case]['unique_y'][a] = unique_ys\n"
   ]
  },
  {
   "cell_type": "code",
   "execution_count": null,
   "metadata": {},
   "outputs": [],
   "source": [
    "for a in range(len(speeds)):\n",
    "    plt.plot(case_mean_coords[0]['mean_x'][a], case_mean_coords[0]['unique_y'][a], label=np.round(speeds[a], 1), color=colors[0][a])\n",
    "    \n",
    "plt.title('Case 1')\n",
    "plt.axis(\"off\")        \n",
    "plt.legend()"
   ]
  },
  {
   "cell_type": "code",
   "execution_count": null,
   "metadata": {},
   "outputs": [],
   "source": [
    "for a in range(len(speeds)):\n",
    "    plt.plot(case_mean_coords[1]['mean_x'][a], case_mean_coords[1]['unique_y'][a], label=np.round(speeds[a], 1), color=colors[1][a])\n",
    "    \n",
    "plt.title('Case 2')\n",
    "plt.axis(\"off\")        \n",
    "plt.legend()"
   ]
  },
  {
   "cell_type": "code",
   "execution_count": null,
   "metadata": {},
   "outputs": [],
   "source": [
    "for a in range(len(speeds)):\n",
    "    plt.plot(case_mean_coords[2]['mean_x'][a], case_mean_coords[2]['unique_y'][a], label=np.round(speeds[a], 1), color=colors[2][a])\n",
    "    \n",
    "plt.title('Case 3')\n",
    "plt.axis(\"off\")        \n",
    "plt.legend()"
   ]
  },
  {
   "cell_type": "markdown",
   "metadata": {},
   "source": [
    "### Trajectory Grouping"
   ]
  },
  {
   "cell_type": "code",
   "execution_count": null,
   "metadata": {},
   "outputs": [],
   "source": [
    "data_speeds = [-8, -7, -6, -5, -4, -3, -2, -1, 0, 1, 2, 3, 4, 5, 6, 7, 8]\n",
    "direction_coords = {sp: {'y': {pm: [] for pm in data_speeds}, 'x': {pm: [] for pm in data_speeds}} for sp in ['LEFT', 'RIGHT', 'CENTER']}\n",
    "direction_mean_coords = {sp: {'mean_x': {pm: [] for pm in data_speeds}, 'unique_y': {pm: [] for pm in data_speeds}} for sp in ['LEFT', 'RIGHT', 'CENTER']}\n",
    "\n",
    "for n in range(n_agents):\n",
    "    if n not in []: \n",
    "        for a in range(9):\n",
    "            for case in range(len(cases)):\n",
    "                for trial in trials[n][case][a]:\n",
    "                    initial_pos = trials[n][case][a][trial]['prey_location'][0]\n",
    "                    final_pos = trials[n][case][a][trial]['prey_location'][-1]\n",
    "                    if case == 0:\n",
    "                        trial_start_pos = 'CENTER'\n",
    "                        trial_speed = a if final_pos[1] > 25 else -a\n",
    "                    elif case == 1:\n",
    "                        trial_start_pos = 'LEFT' if initial_pos[1] < 25 else 'RIGHT'\n",
    "                        trial_speed = a if trial_start_pos == 'LEFT' else -a\n",
    "                    elif case == 2:\n",
    "                        trial_start_pos = 'LEFT' if initial_pos[1] < 25 else 'RIGHT'\n",
    "                        trial_speed = a if trial_start_pos == 'RIGHT' else -a\n",
    "                    \n",
    "                    path = trials[n][case][a][trial]['path']\n",
    "                    for location in path:\n",
    "                        y = 59 - location[0]\n",
    "                        if trial_start_pos == 'CENTER':\n",
    "                            x = 51 - location[1] if trial_speed < 0 else location[1]\n",
    "                        elif trial_start_pos == 'LEFT':\n",
    "                            x = 51 - location[1]\n",
    "                        else:\n",
    "                            x = location[1]\n",
    "\n",
    "                        direction_coords[trial_start_pos]['y'][trial_speed].append(y)\n",
    "                        direction_coords[trial_start_pos]['x'][trial_speed].append(x)"
   ]
  },
  {
   "cell_type": "markdown",
   "metadata": {},
   "source": [
    "### Saving Trajectories as h5"
   ]
  },
  {
   "cell_type": "code",
   "execution_count": null,
   "metadata": {},
   "outputs": [],
   "source": [
    "def recursively_save_dict_contents(h5group, dictionary):\n",
    "    \"\"\"\n",
    "    Recursively saves a dictionary's contents to an h5py group.\n",
    "    \n",
    "    Parameters:\n",
    "    - h5group: an h5py Group or File object.\n",
    "    - dictionary: the dictionary to save.\n",
    "    \"\"\"\n",
    "    for key, item in dictionary.items():\n",
    "        key_str = str(key)\n",
    "        if isinstance(item, dict):\n",
    "            subgroup = h5group.create_group(key_str)\n",
    "            recursively_save_dict_contents(subgroup, item)\n",
    "        else:\n",
    "            data = np.array(item)\n",
    "            h5group.create_dataset(key_str, data=data)\n",
    "\n",
    "\n",
    "with h5py.File('deep_rl_mean_coords.h5', 'w') as h5file:\n",
    "    recursively_save_dict_contents(h5file, direction_coords)\n",
    "\n",
    "print(\"Dictionary saved successfully to deep_rl_mean_coords.h5\")"
   ]
  }
 ],
 "metadata": {
  "kernelspec": {
   "display_name": "Multimodal_mazes",
   "language": "python",
   "name": "python3"
  },
  "language_info": {
   "codemirror_mode": {
    "name": "ipython",
    "version": 3
   },
   "file_extension": ".py",
   "mimetype": "text/x-python",
   "name": "python",
   "nbconvert_exporter": "python",
   "pygments_lexer": "ipython3",
   "version": "3.11.5"
  }
 },
 "nbformat": 4,
 "nbformat_minor": 2
}
